{
 "cells": [
  {
   "cell_type": "code",
   "execution_count": 46,
   "metadata": {},
   "outputs": [],
   "source": [
    "import struct\n",
    "from array import array\n",
    "from os import path\n",
    "import torch\n",
    "import torchvision\n",
    "from torchvision.datasets import ImageFolder\n",
    "from torch.utils.data import DataLoader, random_split\n",
    "import os\n",
    "import matplotlib.pyplot as plt\n",
    "from PIL import Image\n",
    "from torch import nn\n",
    "from tqdm import tqdm\n",
    "from torchvision.transforms import v2"
   ]
  },
  {
   "cell_type": "code",
   "execution_count": 47,
   "metadata": {},
   "outputs": [],
   "source": [
    "#скачание датасета\n",
    "\n",
    "# train_dataset = torchvision.datasets.MNIST(root=\"c:/users/abobantai/Desktop/IT/pytorchl\", train=True, download=True)\n",
    "# test_dataset = torchvision.datasets.MNIST(root=\"c:/users/abobantai/Desktop/IT/pytorchl\", train=False, download=True)"
   ]
  },
  {
   "cell_type": "code",
   "execution_count": 48,
   "metadata": {},
   "outputs": [],
   "source": [
    "#распаковка датасета\n",
    "\n",
    "# def read(dataset):\n",
    "#     if dataset is \"training\":\n",
    "#         path_img = \"c:/users/abobantai/Desktop/IT/pytorchl/MNIST/raw/train-images-idx3-ubyte\"\n",
    "#         path_lbl = \"c:/users/abobantai/Desktop/IT/pytorchl/MNIST/raw/train-labels-idx1-ubyte\"\n",
    "#     elif dataset is \"testing\":\n",
    "#         path_img = \"c:/users/abobantai/Desktop/IT/pytorchl/MNIST/raw/t10k-images-idx3-ubyte\"\n",
    "#         path_lbl = \"c:/users/abobantai/Desktop/IT/pytorchl/MNIST/raw/t10k-labels-idx1-ubyte\"\n",
    "#     else:\n",
    "#         raise ValueError(\"dataset must be \\\"training\\\" or \\\"testing\\\"\")\n",
    "#     with open(path_lbl, \"rb\") as f_label:\n",
    "#         _, size = struct.unpack(\">II\", f_label.read(8))\n",
    "#         lbl = array(\"b\", f_label.read())\n",
    "#     with open(path_img, \"rb\") as f_img:\n",
    "#         _, size, rows, cols = struct.unpack(\">IIII\", f_img.read(16))\n",
    "#         img = array(\"b\", f_img.read())\n",
    "#     return lbl, img, size, rows, cols\n",
    "# def write_dataset(labels, data, size, rows, cols, output_dir):\n",
    "#     classes = {i :f\"class{i}\" for i in range(10)}\n",
    "#     output_dirs = [\n",
    "#         path.join(output_dir, classes[i])\n",
    "#         for i in range(10)\n",
    "#     ]\n",
    "#     for dir in output_dirs:\n",
    "#         if not path.exists(dir):\n",
    "#             os.makedirs(dir)\n",
    "#     for (i, label) in enumerate(labels):\n",
    "#         output_filename = path.join(output_dirs[label], str(i) + \".png\")\n",
    "#         print(\"writing \" + output_filename)\n",
    "#         with open(output_filename, \"wb\") as h:\n",
    "#             data_i = [\n",
    "#                 data[ (i*rows*cols + j*cols) : (i*rows*cols + (j+1)*cols) ]\n",
    "#                 for j in range(rows)\n",
    "#             ]\n",
    "#             data_array = np.asarray(data_i)\n",
    "#             im = Image.fromarray(data_array)\n",
    "#             im.save(output_filename)\n",
    "# output_path = \"c:/users/abobantai/Desktop/IT/pytorchl/mnist\"\n",
    "# for dataset in [\"training\", \"testing\"]:\n",
    "#     write_dataset(*read(dataset), path.join(output_path, dataset))"
   ]
  },
  {
   "cell_type": "code",
   "execution_count": 49,
   "metadata": {},
   "outputs": [
    {
     "name": "stdout",
     "output_type": "stream",
     "text": [
      "cuda\n"
     ]
    }
   ],
   "source": [
    "# определение процессора для обучения\n",
    "\n",
    "device = 'cuda' if torch.cuda.is_available() else 'cpu'\n",
    "print(device)"
   ]
  },
  {
   "cell_type": "code",
   "execution_count": 50,
   "metadata": {},
   "outputs": [],
   "source": [
    "#все необходимые трансформаций для MNIST\n",
    "\n",
    "transforms = v2.Compose([\n",
    "    v2.ToTensor(),\n",
    "    v2.Grayscale(),\n",
    "    v2.ToDtype(torch.float32, scale=True),\n",
    "    v2.Normalize(mean=([0.5]), std=([0.5]))\n",
    "])"
   ]
  },
  {
   "cell_type": "code",
   "execution_count": 51,
   "metadata": {},
   "outputs": [],
   "source": [
    "\n",
    "train_data = ImageFolder(root=\"mnist/training\",transform=transforms)\n",
    "test_data = ImageFolder(root=\"mnist/testing\",transform=transforms)"
   ]
  },
  {
   "cell_type": "code",
   "execution_count": 52,
   "metadata": {},
   "outputs": [],
   "source": [
    "train_data, val_data = random_split(train_data, [0.8, 0.2])"
   ]
  },
  {
   "cell_type": "code",
   "execution_count": 53,
   "metadata": {},
   "outputs": [],
   "source": [
    "train_data = DataLoader(train_data, batch_size=64, shuffle=True)\n",
    "val_data = DataLoader(val_data, batch_size=64, shuffle=False)\n",
    "test_data = DataLoader(test_data, batch_size=64, shuffle=False)"
   ]
  },
  {
   "cell_type": "code",
   "execution_count": 54,
   "metadata": {},
   "outputs": [],
   "source": [
    "# создание модели с помощью nn.Sequential()\n",
    "\n",
    "\n",
    "# model = nn.Sequential(\n",
    "#     nn.Linear(784,198),\n",
    "#     nn.ReLU(),\n",
    "#     nn.Linear(196,49),\n",
    "#     nn.LeakyReLU(),\n",
    "#     nn.Linear(49,10),\n",
    "#     nn.Softmax()\n",
    "# ).to(device)\n"
   ]
  },
  {
   "cell_type": "code",
   "execution_count": 55,
   "metadata": {},
   "outputs": [],
   "source": [
    "# создание модели с помощью nn.Sequential(), и добавление слои с именами\n",
    "\n",
    "\n",
    "# model = nn.Sequential()\n",
    "# model.add_module('lineat_layer1', nn.Linear(784, 392))\n",
    "# model.add_module('relu1', nn.ReLU())\n",
    "# model.add_module('linear_layer2', nn.Linear(392, 98))\n",
    "# model.add_module('sigmoid2', nn.Sigmoid())\n",
    "# model.add_module('linear_layer3', nn.Linear(98, 10))\n",
    "# model.add_module('softmax3', nn.Softmax())\n",
    "# model.to(device)\n"
   ]
  },
  {
   "cell_type": "code",
   "execution_count": 56,
   "metadata": {},
   "outputs": [],
   "source": [
    "# создание модели с помощью класса nn.Module\n",
    "#        ###\n",
    "#       ####\n",
    "#      #####\n",
    "#     ######\n",
    "#        ###\n",
    "#        ###\n",
    "#        ###\n",
    "#        ###\n",
    "#       #####\n",
    "#       #####\n",
    "# архитектура\n",
    "# class myModel(nn.Module):\n",
    "#     def __init__(self, input, output): # определение класа\n",
    "#         super().__init__()\n",
    "#         self.layer1 = nn.Linear(input, 512) # первый слои вход=784 выход=512\n",
    "#         self.layer2 = nn.Linear(512, 128)# второй слои вход=512 выход=128\n",
    "#         self.layer3 = nn.Linear(128, output)# второй слои вход=128 выход=10\n",
    "#         self.relu = nn.ReLU() # функция активация relu\n",
    "#     def forward(self, x):\n",
    "#         x = self.layer1(x) # подача данных в первый слои и запись выхода в переменную х\n",
    "#         x = self.layer2(x) # подача данных с первого слоя на в второй слои и запись выхода в переменную х\n",
    "#         x = self.relu(x) # подача данных со второгого слоя на функция активация и запись выхода в переменную х\n",
    "#         x = self.layer3(x)\n",
    "#         return x # возврацение вычислений модели\n",
    "# model = myModel(784, 10).to(device) # определение модели"
   ]
  },
  {
   "cell_type": "markdown",
   "metadata": {},
   "source": [
    "1-архиектура:\n",
    "\n",
    "**гиперпараметры:**\n",
    "|ТИП|ЗНАЧЕНИЕ|\n",
    "|-|-|\n",
    "|эпохи|50|\n",
    "|оптимизатор|adam|\n",
    "|вычисление ошибки|CrossEntropyLoss|\n",
    "|батчи|64|\n",
    "---\n",
    "\n",
    "\n"
   ]
  },
  {
   "cell_type": "code",
   "execution_count": 57,
   "metadata": {},
   "outputs": [],
   "source": [
    "# # создание модели с помощью класса nn.Module\n",
    "# # 2 model\n",
    "\n",
    "\n",
    "# 0.9659633757961783 acc test\n",
    "# 0.12294392522127506 loss test\n",
    "\n",
    "\n",
    "# class myModel(nn.Module):\n",
    "#     def __init__(self, input, output):\n",
    "#         super().__init__()\n",
    "#         self.layer1 = nn.Linear(input, 2048) \n",
    "#         self.layer2 = nn.Linear(2048, 512)\n",
    "#         self.layer3 = nn.Linear(512, 128)\n",
    "#         self.relu = nn.ReLU()\n",
    "#         self.layer4 = nn.Linear(128, output)\n",
    "#         self.dropout = nn.Dropout(0.3)\n",
    "#     def forward(self, x):\n",
    "#         x = self.layer1(x)\n",
    "#         x = self.dropout(x)\n",
    "#         x = self.layer2(x)\n",
    "#         x = self.relu(x)\n",
    "#         x = self.dropout(x)\n",
    "#         x = self.layer3(x)\n",
    "#         x = self.dropout(x)\n",
    "#         x = self.layer4(x)\n",
    "#         x = self.relu(x)\n",
    "#         return x \n",
    "# model = myModel(784, 10).to(device) "
   ]
  },
  {
   "cell_type": "code",
   "execution_count": null,
   "metadata": {},
   "outputs": [],
   "source": [
    "# MODEL3\n",
    "\n",
    "\n",
    "\n",
    "# 0.9874601910828026 TEST ACC\n",
    "# 0.02679583193418663 TEST LOSS\n",
    "\n",
    "\n",
    "\n",
    "\n",
    "\n",
    "\n",
    "# class MyModel(nn.Module):\n",
    "#     def __init__(self, in_channel, output):\n",
    "#         super().__init__()\n",
    "#         self.conv = nn.Sequential(\n",
    "#             nn.Conv2d(1, 32, 3, bias=True),\n",
    "#             nn.ReLU(),\n",
    "#             nn.Dropout(0.5),\n",
    "#             nn.Conv2d(32, 64, 3, bias=True),\n",
    "#             nn.Dropout(0.5)\n",
    "#         )\n",
    "#         self.flat = nn.Flatten()\n",
    "#         self.fc = nn.Sequential(\n",
    "#             nn.Linear(576*64, 512),\n",
    "#             nn.ReLU(),\n",
    "#             nn.Dropout(0.5),\n",
    "#             nn.Linear(512, 10)\n",
    "#         )\n",
    "#     def forward(self, x):\n",
    "#         x = self.conv(x)\n",
    "#         x = self.flat(x)\n",
    "#         x = self.fc(x)\n",
    "#         return x\n",
    "# model = MyModel(1, 10).to(device=device)"
   ]
  },
  {
   "cell_type": "code",
   "execution_count": 59,
   "metadata": {},
   "outputs": [],
   "source": [
    "# настроика оптимизатора, вычисления ошибки и шедулера\n",
    "\n",
    "loss = nn.CrossEntropyLoss()\n",
    "optimizer = torch.optim.Adam(model.parameters(), lr=0.0001)\n",
    "scheduler = torch.optim.lr_scheduler.ReduceLROnPlateau(optimizer, mode='min', factor=0.1, patience=5)"
   ]
  },
  {
   "cell_type": "code",
   "execution_count": 60,
   "metadata": {},
   "outputs": [],
   "source": [
    "#создания списка для анализа обучения моделиfnfno\n",
    "\n",
    "train_loss = []\n",
    "train_acc = []\n",
    "val_loss = []\n",
    "val_acc = []\n",
    "lr_list = []"
   ]
  },
  {
   "cell_type": "code",
   "execution_count": 61,
   "metadata": {},
   "outputs": [
    {
     "name": "stderr",
     "output_type": "stream",
     "text": [
      "                                                                                 \r"
     ]
    },
    {
     "name": "stdout",
     "output_type": "stream",
     "text": [
      "epoch [1/50], train_loss = 0.3097, train_acc = 0.9088, val_loss = 0.1035, val_acc = 0.9674, lr = [0.0001]\n"
     ]
    },
    {
     "name": "stderr",
     "output_type": "stream",
     "text": [
      "                                                                                 \r"
     ]
    },
    {
     "name": "stdout",
     "output_type": "stream",
     "text": [
      "epoch [2/50], train_loss = 0.1036, train_acc = 0.9683, val_loss = 0.0646, val_acc = 0.9794, lr = [0.0001]\n",
      "checkpoint on epoch 2 with best val metrics: 0.064624\n"
     ]
    },
    {
     "name": "stderr",
     "output_type": "stream",
     "text": [
      "                                                                                 \r"
     ]
    },
    {
     "name": "stdout",
     "output_type": "stream",
     "text": [
      "epoch [3/50], train_loss = 0.0733, train_acc = 0.9769, val_loss = 0.0565, val_acc = 0.9806, lr = [0.0001]\n",
      "checkpoint on epoch 3 with best val metrics: 0.056531\n"
     ]
    },
    {
     "name": "stderr",
     "output_type": "stream",
     "text": [
      "                                                                                 \r"
     ]
    },
    {
     "name": "stdout",
     "output_type": "stream",
     "text": [
      "epoch [4/50], train_loss = 0.0616, train_acc = 0.9801, val_loss = 0.0475, val_acc = 0.9829, lr = [0.0001]\n",
      "checkpoint on epoch 4 with best val metrics: 0.047516\n"
     ]
    },
    {
     "name": "stderr",
     "output_type": "stream",
     "text": [
      "                                                                                 \r"
     ]
    },
    {
     "name": "stdout",
     "output_type": "stream",
     "text": [
      "epoch [5/50], train_loss = 0.0517, train_acc = 0.9832, val_loss = 0.0426, val_acc = 0.9847, lr = [0.0001]\n",
      "checkpoint on epoch 5 with best val metrics: 0.042628\n"
     ]
    },
    {
     "name": "stderr",
     "output_type": "stream",
     "text": [
      "                                                                                 \r"
     ]
    },
    {
     "name": "stdout",
     "output_type": "stream",
     "text": [
      "epoch [6/50], train_loss = 0.0447, train_acc = 0.9855, val_loss = 0.0421, val_acc = 0.9857, lr = [0.0001]\n",
      "checkpoint on epoch 6 with best val metrics: 0.042122\n"
     ]
    },
    {
     "name": "stderr",
     "output_type": "stream",
     "text": [
      "                                                                                 \r"
     ]
    },
    {
     "name": "stdout",
     "output_type": "stream",
     "text": [
      "epoch [7/50], train_loss = 0.0414, train_acc = 0.9865, val_loss = 0.0430, val_acc = 0.9840, lr = [0.0001]\n"
     ]
    },
    {
     "name": "stderr",
     "output_type": "stream",
     "text": [
      "                                                                                 \r"
     ]
    },
    {
     "name": "stdout",
     "output_type": "stream",
     "text": [
      "epoch [8/50], train_loss = 0.0371, train_acc = 0.9879, val_loss = 0.0409, val_acc = 0.9859, lr = [0.0001]\n",
      "checkpoint on epoch 8 with best val metrics: 0.040927\n"
     ]
    },
    {
     "name": "stderr",
     "output_type": "stream",
     "text": [
      "                                                                                 \r"
     ]
    },
    {
     "name": "stdout",
     "output_type": "stream",
     "text": [
      "epoch [9/50], train_loss = 0.0318, train_acc = 0.9894, val_loss = 0.0424, val_acc = 0.9853, lr = [0.0001]\n"
     ]
    },
    {
     "name": "stderr",
     "output_type": "stream",
     "text": [
      "                                                                                  \r"
     ]
    },
    {
     "name": "stdout",
     "output_type": "stream",
     "text": [
      "epoch [10/50], train_loss = 0.0299, train_acc = 0.9902, val_loss = 0.0424, val_acc = 0.9852, lr = [0.0001]\n"
     ]
    },
    {
     "name": "stderr",
     "output_type": "stream",
     "text": [
      "                                                                                  \r"
     ]
    },
    {
     "name": "stdout",
     "output_type": "stream",
     "text": [
      "epoch [11/50], train_loss = 0.0260, train_acc = 0.9915, val_loss = 0.0432, val_acc = 0.9861, lr = [0.0001]\n"
     ]
    },
    {
     "name": "stderr",
     "output_type": "stream",
     "text": [
      "                                                                                  \r"
     ]
    },
    {
     "name": "stdout",
     "output_type": "stream",
     "text": [
      "epoch [12/50], train_loss = 0.0259, train_acc = 0.9913, val_loss = 0.0394, val_acc = 0.9866, lr = [0.0001]\n",
      "checkpoint on epoch 12 with best val metrics: 0.039450\n"
     ]
    },
    {
     "name": "stderr",
     "output_type": "stream",
     "text": [
      "                                                                                  \r"
     ]
    },
    {
     "name": "stdout",
     "output_type": "stream",
     "text": [
      "epoch [13/50], train_loss = 0.0246, train_acc = 0.9922, val_loss = 0.0396, val_acc = 0.9872, lr = [0.0001]\n"
     ]
    },
    {
     "name": "stderr",
     "output_type": "stream",
     "text": [
      "                                                                                  \r"
     ]
    },
    {
     "name": "stdout",
     "output_type": "stream",
     "text": [
      "epoch [14/50], train_loss = 0.0208, train_acc = 0.9935, val_loss = 0.0406, val_acc = 0.9871, lr = [0.0001]\n"
     ]
    },
    {
     "name": "stderr",
     "output_type": "stream",
     "text": [
      "                                                                                  \r"
     ]
    },
    {
     "name": "stdout",
     "output_type": "stream",
     "text": [
      "epoch [15/50], train_loss = 0.0200, train_acc = 0.9933, val_loss = 0.0423, val_acc = 0.9863, lr = [0.0001]\n"
     ]
    },
    {
     "name": "stderr",
     "output_type": "stream",
     "text": [
      "                                                                                  \r"
     ]
    },
    {
     "name": "stdout",
     "output_type": "stream",
     "text": [
      "epoch [16/50], train_loss = 0.0191, train_acc = 0.9937, val_loss = 0.0405, val_acc = 0.9873, lr = [0.0001]\n"
     ]
    },
    {
     "name": "stderr",
     "output_type": "stream",
     "text": [
      "                                                                                  \r"
     ]
    },
    {
     "name": "stdout",
     "output_type": "stream",
     "text": [
      "epoch [17/50], train_loss = 0.0189, train_acc = 0.9934, val_loss = 0.0402, val_acc = 0.9879, lr = [0.0001]\n"
     ]
    },
    {
     "name": "stderr",
     "output_type": "stream",
     "text": [
      "                                                                                  \r"
     ]
    },
    {
     "name": "stdout",
     "output_type": "stream",
     "text": [
      "epoch [18/50], train_loss = 0.0175, train_acc = 0.9942, val_loss = 0.0396, val_acc = 0.9870, lr = [0.0001]\n"
     ]
    },
    {
     "name": "stderr",
     "output_type": "stream",
     "text": [
      "                                                                                  \r"
     ]
    },
    {
     "name": "stdout",
     "output_type": "stream",
     "text": [
      "epoch [19/50], train_loss = 0.0130, train_acc = 0.9958, val_loss = 0.0371, val_acc = 0.9875, lr = [1e-05]\n",
      "checkpoint on epoch 19 with best val metrics: 0.037066\n"
     ]
    },
    {
     "name": "stderr",
     "output_type": "stream",
     "text": [
      "                                                                                  \r"
     ]
    },
    {
     "name": "stdout",
     "output_type": "stream",
     "text": [
      "epoch [20/50], train_loss = 0.0123, train_acc = 0.9960, val_loss = 0.0364, val_acc = 0.9877, lr = [1e-05]\n",
      "checkpoint on epoch 20 with best val metrics: 0.036424\n"
     ]
    },
    {
     "name": "stderr",
     "output_type": "stream",
     "text": [
      "                                                                                  \r"
     ]
    },
    {
     "name": "stdout",
     "output_type": "stream",
     "text": [
      "epoch [21/50], train_loss = 0.0108, train_acc = 0.9966, val_loss = 0.0360, val_acc = 0.9879, lr = [1e-05]\n",
      "checkpoint on epoch 21 with best val metrics: 0.035973\n"
     ]
    },
    {
     "name": "stderr",
     "output_type": "stream",
     "text": [
      "                                                                                  \r"
     ]
    },
    {
     "name": "stdout",
     "output_type": "stream",
     "text": [
      "epoch [22/50], train_loss = 0.0090, train_acc = 0.9973, val_loss = 0.0366, val_acc = 0.9880, lr = [1e-05]\n"
     ]
    },
    {
     "name": "stderr",
     "output_type": "stream",
     "text": [
      "                                                                                  \r"
     ]
    },
    {
     "name": "stdout",
     "output_type": "stream",
     "text": [
      "epoch [23/50], train_loss = 0.0095, train_acc = 0.9969, val_loss = 0.0365, val_acc = 0.9881, lr = [1e-05]\n"
     ]
    },
    {
     "name": "stderr",
     "output_type": "stream",
     "text": [
      "                                                                                  \r"
     ]
    },
    {
     "name": "stdout",
     "output_type": "stream",
     "text": [
      "epoch [24/50], train_loss = 0.0089, train_acc = 0.9972, val_loss = 0.0363, val_acc = 0.9880, lr = [1e-05]\n"
     ]
    },
    {
     "name": "stderr",
     "output_type": "stream",
     "text": [
      "                                                                                  \r"
     ]
    },
    {
     "name": "stdout",
     "output_type": "stream",
     "text": [
      "epoch [25/50], train_loss = 0.0087, train_acc = 0.9972, val_loss = 0.0364, val_acc = 0.9884, lr = [1e-05]\n"
     ]
    },
    {
     "name": "stderr",
     "output_type": "stream",
     "text": [
      "                                                                                  \r"
     ]
    },
    {
     "name": "stdout",
     "output_type": "stream",
     "text": [
      "epoch [26/50], train_loss = 0.0089, train_acc = 0.9970, val_loss = 0.0371, val_acc = 0.9880, lr = [1e-05]\n"
     ]
    },
    {
     "name": "stderr",
     "output_type": "stream",
     "text": [
      "                                                                                  \r"
     ]
    },
    {
     "name": "stdout",
     "output_type": "stream",
     "text": [
      "epoch [27/50], train_loss = 0.0084, train_acc = 0.9972, val_loss = 0.0372, val_acc = 0.9883, lr = [1e-05]\n"
     ]
    },
    {
     "name": "stderr",
     "output_type": "stream",
     "text": [
      "                                                                                  \r"
     ]
    },
    {
     "name": "stdout",
     "output_type": "stream",
     "text": [
      "epoch [28/50], train_loss = 0.0077, train_acc = 0.9974, val_loss = 0.0372, val_acc = 0.9883, lr = [1.0000000000000002e-06]\n"
     ]
    },
    {
     "name": "stderr",
     "output_type": "stream",
     "text": [
      "                                                                                  \r"
     ]
    },
    {
     "name": "stdout",
     "output_type": "stream",
     "text": [
      "epoch [29/50], train_loss = 0.0084, train_acc = 0.9971, val_loss = 0.0373, val_acc = 0.9881, lr = [1.0000000000000002e-06]\n"
     ]
    },
    {
     "name": "stderr",
     "output_type": "stream",
     "text": [
      "                                                                                  \r"
     ]
    },
    {
     "name": "stdout",
     "output_type": "stream",
     "text": [
      "epoch [30/50], train_loss = 0.0072, train_acc = 0.9977, val_loss = 0.0373, val_acc = 0.9883, lr = [1.0000000000000002e-06]\n"
     ]
    },
    {
     "name": "stderr",
     "output_type": "stream",
     "text": [
      "                                                                                  \r"
     ]
    },
    {
     "name": "stdout",
     "output_type": "stream",
     "text": [
      "epoch [31/50], train_loss = 0.0068, train_acc = 0.9976, val_loss = 0.0373, val_acc = 0.9884, lr = [1.0000000000000002e-06]\n"
     ]
    },
    {
     "name": "stderr",
     "output_type": "stream",
     "text": [
      "                                                                                  \r"
     ]
    },
    {
     "name": "stdout",
     "output_type": "stream",
     "text": [
      "epoch [32/50], train_loss = 0.0077, train_acc = 0.9976, val_loss = 0.0372, val_acc = 0.9883, lr = [1.0000000000000002e-06]\n",
      "мертвая точка, конец обучения в эпохе-32\n"
     ]
    }
   ],
   "source": [
    "#цикл обучения модели\n",
    "\n",
    "epochs = 50 #эпохи\n",
    "best_loss = None\n",
    "count = 0\n",
    "\n",
    "for epoch in range(epochs):\n",
    "    count += 1\n",
    "    lr = scheduler._last_lr  # текущяя скорость обучения\n",
    "    train_loop = tqdm(train_data, leave=False)  # определение прогрес бара\n",
    "    true_answer = 0 # счет правильных ответов за каждую эпоху не включая данных валидаций\n",
    "    runnig_train_loss = [] # список ошибок тренировки каждой эпохи\n",
    "    model.train()\n",
    "    for x, tpred in train_loop: # перебор всех батчей тренировочных данных\n",
    "        x = x.to(device) # преоброзавание данных для модели\n",
    "        tpred = tpred.reshape(-1).to(torch.int32) # преоброзавание данных для модели\n",
    "        tpred = torch.eye(10)[tpred].to(device) # преоброзавание правильных ответов на ванхотвектора\n",
    "\n",
    "        pred = model(x) # подача изображения в модель\n",
    "        los = loss(pred, tpred) # вычисление ошибки\n",
    "\n",
    "        optimizer.zero_grad() # обнуление градиентов \n",
    "        los.backward() # обратное распростронение\n",
    "        optimizer.step() # обновление\n",
    "\n",
    "        runnig_train_loss.append(los.item()) # добавление значений ошибок в список\n",
    "        mean_train_loss = sum(runnig_train_loss) / len(runnig_train_loss) # вычисление среднего значения ошибок\n",
    "\n",
    "        true_answer += (pred.argmax(dim=1) == tpred.argmax(dim=1)).sum().item() # счетчик правильных предсказаний\n",
    "\n",
    "        train_loop.set_description(f\"epoch [{epoch+1}], train_loss = {mean_train_loss:.4f}\") \n",
    "    runnig_train_acc = true_answer/64 / len(train_data) # вычисление точность предсказаний модели\n",
    "\n",
    "    train_loss.append(mean_train_loss) # добавления среднего значения ошибок модели в список для анализа\n",
    "    train_acc.append(runnig_train_acc) # добавления среднего значения точности предсказаний моделя в список для анализа\n",
    "\n",
    "\n",
    "    model.eval()\n",
    "    with torch.no_grad(): # режим отключения вычисления градиентов\n",
    "        runnig_val_loss = [] # список ошибок моделя в валидаций\n",
    "        true_answer = 0 # счет правильных ответов в валидаций\n",
    "        for x, tpred in val_data:\n",
    "            x = x.to(device)\n",
    "            tpred = tpred.reshape(-1).to(torch.int32)\n",
    "            tpred = torch.eye(10)[tpred].to(device)\n",
    "\n",
    "            pred = model(x)\n",
    "            los = loss(pred, tpred)\n",
    "\n",
    "            runnig_val_loss.append(los.item()) \n",
    "            mean_val_loss = sum(runnig_val_loss) / len(runnig_val_loss)\n",
    "            true_answer += (pred.argmax(dim=1) == tpred.argmax(dim=1)).sum().item()\n",
    "        runnig_val_acc = true_answer/64 / len(val_data)\n",
    "        val_loss.append(mean_val_loss)\n",
    "        val_acc.append(runnig_val_acc)\n",
    "    #                                       |\n",
    "    # вывод результата обучения одной эпохи\\|/\n",
    "    #                                       '\n",
    "    print(f\"epoch [{epoch+1}/{epochs}], train_loss = {mean_train_loss:.4f}, train_acc = {runnig_train_acc:.4f}, val_loss = {mean_val_loss:.4f}, val_acc = {runnig_val_acc:.4f}, lr = {lr}\")\n",
    "    scheduler.step(mean_val_loss) #обновление шедулера\n",
    "    lr_list.append(lr) # добавления значения скорости обучения в список\n",
    "\n",
    "    if best_loss == None:\n",
    "        best_loss = mean_val_loss\n",
    "    if mean_val_loss < best_loss:\n",
    "        best_loss = mean_val_loss\n",
    "        count = 0\n",
    "        checkpoint = {\n",
    "            \"state_model\": model.state_dict(),\n",
    "            \"state_optimizer\": optimizer.state_dict(),\n",
    "            \"state_scheduler\": scheduler.state_dict(),\n",
    "            \"loss\": {\n",
    "                \"train_loss\": train_loss,\n",
    "                \"val_loss\": val_loss,\n",
    "                \"best_loss\": best_loss\n",
    "            },\n",
    "            \"metric\":{\n",
    "                \"train_accuracy\": train_acc,\n",
    "                \"val_accuracy\": val_acc\n",
    "            },\n",
    "            \"lr\": lr_list,\n",
    "            \"epoch\": {\n",
    "                \"epochs\": epochs,\n",
    "                \"save_epochs\": epoch\n",
    "            }\n",
    "        }\n",
    "        torch.save(checkpoint, f'checkpoints/model_state_dict_epoch_{epoch+1}.pt')\n",
    "        print(f\"checkpoint on epoch {epoch+1} with best val metrics: {mean_val_loss:.6f}\")\n",
    "    if count >  10:\n",
    "        print(f\"мертвая точка, конец обучения в эпохе-{epoch+1}\")\n",
    "        break"
   ]
  },
  {
   "cell_type": "code",
   "execution_count": 62,
   "metadata": {},
   "outputs": [
    {
     "data": {
      "image/png": "[encoded data removed]",
      "text/plain": [
       "<Figure size 640x480 with 1 Axes>"
      ]
     },
     "metadata": {},
     "output_type": "display_data"
    }
   ],
   "source": [
    "#график ошибки моделя при тренировки и валидаций\n",
    "\n",
    "plt.plot(train_loss)\n",
    "plt.plot(val_loss)\n",
    "plt.legend(['train_loss','val_loss'])\n",
    "plt.show()"
   ]
  },
  {
   "cell_type": "code",
   "execution_count": 63,
   "metadata": {},
   "outputs": [
    {
     "data": {
      "image/png": "[encoded data removed]",
      "text/plain": [
       "<Figure size 640x480 with 1 Axes>"
      ]
     },
     "metadata": {},
     "output_type": "display_data"
    }
   ],
   "source": [
    "#график точности моделя при тренировке и валидаций\n",
    "\n",
    "plt.plot(train_acc)\n",
    "plt.plot(val_acc)\n",
    "plt.legend(['train_acc','val_acc'])\n",
    "plt.show()"
   ]
  },
  {
   "cell_type": "code",
   "execution_count": 64,
   "metadata": {},
   "outputs": [
    {
     "data": {
      "image/png": "[encoded data removed]",
      "text/plain": [
       "<Figure size 640x480 with 1 Axes>"
      ]
     },
     "metadata": {},
     "output_type": "display_data"
    }
   ],
   "source": [
    "#график изменений скорости обучения\n",
    "\n",
    "plt.plot(lr_list)\n",
    "plt.legend(['lr'])\n",
    "plt.show()"
   ]
  },
  {
   "cell_type": "code",
   "execution_count": 65,
   "metadata": {},
   "outputs": [],
   "source": [
    "#сохранение модели\n",
    "#\n",
    "#для каждой архитектуры бдует создана новый каталог в каталоге models\n",
    "\n",
    "torch.save(model.state_dict(), 'models/model3/model3.pt')"
   ]
  },
  {
   "cell_type": "code",
   "execution_count": 66,
   "metadata": {},
   "outputs": [],
   "source": [
    "# model_dict = torch.load('models/model1/model1.pt')\n",
    "# model.load_state_dict(model_dict)\n",
    "\n"
   ]
  },
  {
   "cell_type": "code",
   "execution_count": 67,
   "metadata": {},
   "outputs": [
    {
     "name": "stdout",
     "output_type": "stream",
     "text": [
      "0.9874601910828026\n",
      "0.02679583193418663\n"
     ]
    }
   ],
   "source": [
    "with torch.no_grad(): # режим отключения вычисления градиентов\n",
    "        runnig_test_loss = [] # список ошибок моделя в тесте\n",
    "        true_answer = 0 # счет правильных предсказаний в тесте\n",
    "        for x, tpred in test_data:\n",
    "            x = x.to(device)\n",
    "            tpred = tpred.reshape(-1).to(torch.int32)\n",
    "            tpred = torch.eye(10)[tpred].to(device)\n",
    "\n",
    "            pred = model(x)\n",
    "            los = loss(pred, tpred)\n",
    "\n",
    "            runnig_test_loss.append(los.item()) \n",
    "            mean_test_loss = sum(runnig_test_loss) / len(runnig_test_loss)\n",
    "            true_answer += (pred.argmax(dim=1) == tpred.argmax(dim=1)).sum().item()\n",
    "        runnig_test_acc = true_answer/64 / len(test_data)\n",
    "print(runnig_test_acc)\n",
    "print(mean_test_loss)"
   ]
  }
 ],
 "metadata": {
  "kernelspec": {
   "display_name": "Python 3",
   "language": "python",
   "name": "python3"
  },
  "language_info": {
   "codemirror_mode": {
    "name": "ipython",
    "version": 3
   },
   "file_extension": ".py",
   "mimetype": "text/x-python",
   "name": "python",
   "nbconvert_exporter": "python",
   "pygments_lexer": "ipython3",
   "version": "3.9.20"
  }
 },
 "nbformat": 4,
 "nbformat_minor": 2
}
